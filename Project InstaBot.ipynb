{
 "cells": [
  {
   "cell_type": "markdown",
   "id": "82bf639a",
   "metadata": {},
   "source": [
    "InstaBot - Part 2"
   ]
  },
  {
   "cell_type": "code",
   "execution_count": null,
   "id": "736614cc",
   "metadata": {},
   "outputs": [],
   "source": [
    "from selenium import webdriver\n",
    "from selenium.webdriver.support import expected_conditions as EC\n",
    "from selenium.webdriver.support.ui import WebDriverWait\n",
    "from selenium.webdriver.common.by import By\n",
    "from selenium.common.exceptions import TimeoutException\n",
    "from bs4 import BeautifulSoup\n",
    "from collections import OrderedDict \n",
    "import time\n",
    "from datetime import datetime, timedelta\n",
    "\n",
    "import pandas as pd\n",
    "import numpy as np\n",
    "import matplotlib.pyplot as plt\n",
    "%matplotlib inline"
   ]
  },
  {
   "cell_type": "code",
   "execution_count": null,
   "id": "3dac5c0b",
   "metadata": {},
   "outputs": [],
   "source": [
    "#opening the browser, change the path as per location of chromedriver in your system\n",
    "driver = webdriver.Chrome(executable_path = 'C:/Users/admin/Downloads/Chromedriver/chromedriver.exe')\n",
    "driver.maximize_window()"
   ]
  },
  {
   "cell_type": "code",
   "execution_count": null,
   "id": "6179e512",
   "metadata": {},
   "outputs": [],
   "source": [
    "#opening instagram\n",
    "driver.get('https://www.instagram.com/')"
   ]
  },
  {
   "cell_type": "code",
   "execution_count": null,
   "id": "54742fdf",
   "metadata": {},
   "outputs": [],
   "source": [
    "#update your username and password here\n",
    "username = 'SAMPLE USERNAME'\n",
    "password = 'SAMPLE PASSWORD'"
   ]
  },
  {
   "cell_type": "code",
   "execution_count": null,
   "id": "790e8124",
   "metadata": {},
   "outputs": [],
   "source": [
    "#initializing  wait object\n",
    "wait = WebDriverWait(driver, 10)"
   ]
  },
  {
   "cell_type": "code",
   "execution_count": null,
   "id": "3d5d0d53",
   "metadata": {},
   "outputs": [],
   "source": [
    "#LogIn() function is same as part-I. All the functionality is same as before.\n",
    "def LogIn(username, password):\n",
    "    try :\n",
    "        #locating username textbox and sending username\n",
    "        user_name = wait.until(EC.presence_of_element_located((By.NAME,'username')))\n",
    "        user_name.send_keys(username)\n",
    "        #locating password box and sending password\n",
    "        pwd = driver.find_element_by_name('password')\n",
    "        pwd.send_keys(password)\n",
    "        #locating login button \n",
    "        button = wait.until(EC.presence_of_element_located((By.XPATH,'//*[@id=\"loginForm\"]/div[1]/div[3]/button/div')))\n",
    "        button.submit()\n",
    "        #Save Your Login Info? : Not Now\n",
    "        pop = wait.until(EC.presence_of_element_located((By.XPATH,'//*[@id=\"react-root\"]/section/main/div/div/div/div/button')))\n",
    "        pop.click()\n",
    "        \n",
    "    except TimeoutException :\n",
    "        print (\"Something went wrong! Try Again\")"
   ]
  },
  {
   "cell_type": "code",
   "execution_count": null,
   "id": "9919450c",
   "metadata": {},
   "outputs": [],
   "source": [
    "#Login to your Instagram Handle\n",
    "LogIn(username, password)"
   ]
  },
  {
   "cell_type": "code",
   "execution_count": null,
   "id": "9fd3bae2",
   "metadata": {},
   "outputs": [],
   "source": [
    "##search_open_profile() function is same as part-I. All the functionality is same as before.\n",
    "def search_open_profile(s):\n",
    "    try:\n",
    "        #locatong search box bar and sending text \n",
    "        search_box = wait.until(EC.presence_of_element_located((By.CLASS_NAME,'XTCLo')))\n",
    "        search_box.send_keys(s)\n",
    "        #locating serched result\n",
    "        res = wait.until(EC.presence_of_element_located((By.CLASS_NAME,'yCE8d')))\n",
    "        res.click()           \n",
    "\n",
    "        time.sleep(5)\n",
    "        #driver.back()\n",
    "    \n",
    "    except TimeoutException :\n",
    "        print('No Search Found!')\n",
    "    "
   ]
  },
  {
   "cell_type": "markdown",
   "id": "cf1443a9",
   "metadata": {},
   "source": [
    "Problem 1 : Analyse the habits of bloggers"
   ]
  },
  {
   "cell_type": "markdown",
   "id": "3152416e",
   "metadata": {},
   "source": [
    "Now your friend has followed a lot of different food bloggers, he needs to analyse the habits of these bloggers.\n",
    "1.From the list of instagram handles you obtained when you searched ‘food’ in previous project. Open the first 10 handles and find the top 5 which have the highest number of followers\n",
    "2.Now Find the number of posts these handles have done in the previous 3 days.\n",
    "3.Depict this information using a suitable graph."
   ]
  },
  {
   "cell_type": "markdown",
   "id": "8ee01733",
   "metadata": {},
   "source": [
    "1.From the list of instagram handles you obtained when you searched ‘food’ in previous project. Open the first 10 handles and find the top 5 which have the highest number of followers"
   ]
  },
  {
   "cell_type": "code",
   "execution_count": null,
   "id": "da84da8a",
   "metadata": {},
   "outputs": [],
   "source": [
    "#First 10 handles from part-1\n",
    "handles_list = ['dilsefoodie','foodtalkindia','foodmaniacinthehouse','food.darzee','yourfoodlab','dilsefoodie_','food',\n",
    "               'foodnetwork','foodinsider','foodiesfeature']"
   ]
  },
  {
   "cell_type": "code",
   "execution_count": null,
   "id": "19d46f98",
   "metadata": {},
   "outputs": [],
   "source": [
    "#function for getting top 5 handle which have highest number of followers\n",
    "def top_5_handles(lst):\n",
    "    try:\n",
    "        #dct contains username with number of followers\n",
    "        dct = {}\n",
    "        for i in lst :\n",
    "            #This fuction will search a user and open that profile\n",
    "            search_open_profile(i)\n",
    "            time.sleep(2)\n",
    "            #locating followers of user\n",
    "            followers = wait.until(EC.presence_of_all_elements_located((By.CLASS_NAME,'g47SY')))[1]\n",
    "            #replacing ',' with '' and converted into int\n",
    "            dct[i] = int(followers.get_attribute('title').replace(',' , ''))\n",
    "        #top 5 most followed user\n",
    "        count = 0\n",
    "        res = OrderedDict()\n",
    "        for i in sorted(dct, key=dct.get, reverse=True):\n",
    "            res[i] = dct[i]\n",
    "            count += 1\n",
    "            if(count >= 5) : \n",
    "                break\n",
    "                \n",
    "        return res\n",
    "    except TimeoutException :\n",
    "        print (\"Something went wrong! Try Again\")"
   ]
  },
  {
   "cell_type": "code",
   "execution_count": null,
   "id": "6bccf835",
   "metadata": {},
   "outputs": [],
   "source": [
    "top_handles = top_5_handles(handles_list)"
   ]
  },
  {
   "cell_type": "code",
   "execution_count": null,
   "id": "20406142",
   "metadata": {},
   "outputs": [],
   "source": [
    "print('Top 5 instagram handles which have the highest number of followers :')\n",
    "for uname in top_handles:\n",
    "    print(uname,'->',top_handles[uname])"
   ]
  },
  {
   "cell_type": "markdown",
   "id": "4f7fa76a",
   "metadata": {},
   "source": [
    "2.Now Find the number of posts these handles have done in the previous 3 days."
   ]
  },
  {
   "cell_type": "code",
   "execution_count": null,
   "id": "42550696",
   "metadata": {},
   "outputs": [],
   "source": [
    "#this function returns number of post posted by user in n days\n",
    "def count_of_post(day):\n",
    "    try :\n",
    "        #locating first post\n",
    "        post = wait.until(EC.presence_of_element_located((By.CLASS_NAME,'v1Nh3')))\n",
    "        post.click()\n",
    "        \n",
    "        count = 0 \n",
    "        while True :\n",
    "            #getting date of the the post\n",
    "            temp = wait.until(EC.presence_of_element_located((By.CLASS_NAME,'_1o9PC')))\n",
    "            #getting date in string format\n",
    "            date_string = temp.get_attribute('datetime')\n",
    "            #converting into date format\n",
    "            date = datetime.strptime(date_string[0:19], \"%Y-%m-%dT%H:%M:%S\")\n",
    "            #taking differnce between today's date and post posted date\n",
    "            if (datetime.now() - date).days > day :\n",
    "                break\n",
    "            else :\n",
    "                count += 1\n",
    "            #locating next button\n",
    "            next_but = wait.until(EC.presence_of_element_located((By.CLASS_NAME,'coreSpriteRightPaginationArrow')))\n",
    "            next_but.click()\n",
    "        #closing the post\n",
    "        close=driver.find_element_by_xpath(\"/html/body/div[4]/div[3]/button\")\n",
    "        close.click()\n",
    "        return count\n",
    "    \n",
    "    except TimeoutException :\n",
    "        print (\"Something went wrong! Try Again\")"
   ]
  },
  {
   "cell_type": "code",
   "execution_count": null,
   "id": "d904e6ad",
   "metadata": {},
   "outputs": [],
   "source": [
    "total_post_count = {}\n",
    "for i in top_handles :\n",
    "    search_open_profile(i)\n",
    "    time.sleep(2)\n",
    "    count = count_of_post(3)\n",
    "    total_post_count[i] = count"
   ]
  },
  {
   "cell_type": "code",
   "execution_count": 3,
   "id": "899eb5c4",
   "metadata": {},
   "outputs": [
    {
     "name": "stdout",
     "output_type": "stream",
     "text": [
      "Number of posts these handles have done in the previous 3 days : -\n"
     ]
    }
   ],
   "source": [
    "print('Number of posts these handles have done in the previous 3 days : -')\n",
    "for i in total_post_count:\n",
    "    print(i,total_post_count[i])"
   ]
  },
  {
   "cell_type": "markdown",
   "id": "4df2a752",
   "metadata": {},
   "source": [
    "3.Depict this information using a suitable graph."
   ]
  },
  {
   "cell_type": "code",
   "execution_count": null,
   "id": "96aa59f2",
   "metadata": {},
   "outputs": [],
   "source": [
    "# using total_post_count to get username and number of post\n",
    "x = total_post_count.keys()\n",
    "y = total_post_count.values()\n",
    "plt.bar(x,y,color='g',alpha=0.6)\n",
    "plt.ylabel(\"Number of posts in the previous 3 days\",size=10)\n",
    "plt.xlabel(\"Username\",size=10)\n",
    "plt.title('Most Followed user vs Number of recent posts ',fontsize=20, color='green',alpha=0.8)\n",
    "plt.grid()\n",
    "plt.show()"
   ]
  },
  {
   "cell_type": "markdown",
   "id": "6f6de236",
   "metadata": {},
   "source": [
    "Problem 2 : List of hashtags"
   ]
  },
  {
   "cell_type": "markdown",
   "id": "7848de33",
   "metadata": {},
   "source": [
    "Your friend also needs a list of hashtags that he should use in his posts.\n",
    "1.Open the 5 handles you obtained in the last question, and scrape the content of the first 10 posts of each handle.\n",
    "2.Prepare a list of all words used in all the scraped posts and calculate the frequency of each word.\n",
    "3.Create a csv file with two columns : the word and its frequency\n",
    "4.Now, find the hashtags that were most popular among these bloggers\n",
    "5.Plot a Pie Chart of the top 5 hashtags obtained and the number of times they were used by these bloggers in the scraped posts."
   ]
  },
  {
   "cell_type": "code",
   "execution_count": null,
   "id": "0873552e",
   "metadata": {},
   "outputs": [],
   "source": [
    "def extract_content(lst):\n",
    "    try :\n",
    "        hashtags_list = []\n",
    "        for user in lst:\n",
    "            #This fuction will search a user and open that profile\n",
    "            search_open_profile(user)\n",
    "            time.sleep(2)\n",
    "            #just for scrolling to getting post\n",
    "            driver.execute_script('window.scrollTo(0, 3000);')\n",
    "            time.sleep(2)\n",
    "            driver.execute_script('window.scrollTo(0, -3000);')\n",
    "            time.sleep(2)\n",
    "            #locating the post of the user\n",
    "            posts = driver.find_elements_by_class_name('v1Nh3')\n",
    "            for post in posts[:10]:\n",
    "                post.click()\n",
    "                time.sleep(2)\n",
    "                #locating all hashtag used in this post\n",
    "                hashtags=driver.find_elements_by_class_name(\"xil3i\")\n",
    "                for hashtag in hashtags:\n",
    "                    #appending in list\n",
    "                    hashtags_list.append(hashtag.text)  \n",
    "                \n",
    "                #locating close button and clicking on it\n",
    "                close=driver.find_element_by_xpath(\"/html/body/div[4]/div[3]/button\")\n",
    "                time.sleep(1)\n",
    "                close.click()\n",
    "        return hashtags_list\n",
    "    \n",
    "    except TimeoutException :\n",
    "        print (\"Something went wrong! Try Again\")"
   ]
  },
  {
   "cell_type": "code",
   "execution_count": null,
   "id": "fa22b759",
   "metadata": {},
   "outputs": [],
   "source": [
    "handles = list(total_post_count.keys())\n",
    "hashtags = extract_content(handles)"
   ]
  },
  {
   "cell_type": "code",
   "execution_count": null,
   "id": "7365205a",
   "metadata": {},
   "outputs": [],
   "source": [
    "print(hashtags)"
   ]
  },
  {
   "cell_type": "markdown",
   "id": "c544cd1f",
   "metadata": {},
   "source": [
    "2.Prepare a list of all words used in all the scraped posts and calculate the frequency of each word."
   ]
  },
  {
   "cell_type": "code",
   "execution_count": null,
   "id": "cbbfbade",
   "metadata": {},
   "outputs": [],
   "source": [
    "dct = {}\n",
    "words_list = []\n",
    "for word in hashtags:\n",
    "    dct[word] = dct.get(word,0) + 1\n",
    "    \n",
    "for i in sorted(dct, key=dct.get, reverse=True):\n",
    "    words_list.append([i,dct[i]])\n",
    "    print(i,dct[i])"
   ]
  },
  {
   "cell_type": "markdown",
   "id": "d5788f7d",
   "metadata": {},
   "source": [
    "3.Create a csv file with two columns : the word and its frequency"
   ]
  },
  {
   "cell_type": "code",
   "execution_count": null,
   "id": "5c805c2c",
   "metadata": {},
   "outputs": [],
   "source": [
    "df = pd.DataFrame(words_list,columns=['Words','Frequency'])\n",
    "#using .to_csv pandas function to convert dataframe to csv\n",
    "df.to_csv('words_frequency.csv',index=False)\n",
    "df.head(10)"
   ]
  },
  {
   "cell_type": "markdown",
   "id": "3f9fac6e",
   "metadata": {},
   "source": [
    "4.Now, find the hashtags that were most popular among these bloggers"
   ]
  },
  {
   "cell_type": "code",
   "execution_count": null,
   "id": "d2c767c6",
   "metadata": {},
   "outputs": [],
   "source": [
    "print(words_list[0][0])"
   ]
  },
  {
   "cell_type": "markdown",
   "id": "5c27c2be",
   "metadata": {},
   "source": [
    "5.Plot a Pie Chart of the top 5 hashtags obtained and the number of times they were used by these bloggers in the scraped posts."
   ]
  },
  {
   "cell_type": "code",
   "execution_count": null,
   "id": "575d2d62",
   "metadata": {},
   "outputs": [],
   "source": [
    "#using answer of problem 2.2\n",
    "hashtag_name = [words_list[0][0],words_list[1][0],words_list[2][0],words_list[3][0],words_list[4][0]]\n",
    "count = [words_list[0][1],words_list[1][1],words_list[2][1],words_list[3][1],words_list[4][1]]\n",
    "plt.figure(figsize=(12,6))\n",
    "plt.pie(count,labels=hashtag_name,autopct='%0.2f%%',radius=1,counterclock=False,startangle=110)\n",
    "plt.title('Top 5 Hashtags used by bloggers ',fontsize=20, color='green',alpha=0.8)\n",
    "plt.show()\n"
   ]
  },
  {
   "cell_type": "markdown",
   "id": "80c85fd3",
   "metadata": {},
   "source": [
    "Problem 3 : Followers : Likes ratio"
   ]
  },
  {
   "cell_type": "markdown",
   "id": "f1586637",
   "metadata": {},
   "source": [
    "You need to also calculate average followers : likes ratio for the obtained handles. Followers : Likes ratio is calculated as follows:\n",
    "1.Find out the likes of the top 10 posts of the 5 handles obtained earlier.\n",
    "2.Calculate the average likes for a handle.\n",
    "3.Divide the average likes obtained from the number of followers of the handle to get the average followers:like ratio of each handle.\n",
    "4.Create a bar graph to depict the above obtained information."
   ]
  },
  {
   "cell_type": "markdown",
   "id": "2a65dea3",
   "metadata": {},
   "source": [
    "1.Find out the likes of the top 10 posts of the 5 handles obtained earlier."
   ]
  },
  {
   "cell_type": "code",
   "execution_count": null,
   "id": "ed9c7558",
   "metadata": {},
   "outputs": [],
   "source": [
    "#This function returns list of likes of 10 post of a user\n",
    "def get_likes(user):\n",
    "    try :\n",
    "            likes = []\n",
    "            #This fuction will search a user and open that profile\n",
    "            search_open_profile(user)\n",
    "            time.sleep(2)\n",
    "            #just for scrolling\n",
    "            driver.execute_script('window.scrollTo(0, 3000);')\n",
    "            time.sleep(2)\n",
    "            driver.execute_script('window.scrollTo(0, -3000);')\n",
    "            time.sleep(2)\n",
    "            #locating the post of the user\n",
    "            posts = driver.find_elements_by_class_name('v1Nh3')\n",
    "            for post in posts[:10]:\n",
    "                post.click()\n",
    "                time.sleep(2)\n",
    "                try : \n",
    "                    #for getting like on video we need to first click on view then only we can like\n",
    "                    views = wait.until(EC.presence_of_element_located((By.CLASS_NAME,'vcOH2')))\n",
    "                    views.click()\n",
    "                    time.sleep(1)\n",
    "                    \n",
    "                    #locating like and clicking on it\n",
    "                    like = driver.find_element_by_xpath('/html/body/div[4]/div[2]/div/article/div[3]/section[2]/div/div/div[4]/span')\n",
    "                    no_of_likes = (like.text).replace(',' , '')\n",
    "                    likes.append(int(no_of_likes))\n",
    "                    time.sleep(1)\n",
    "                    #just clicking one body to get original post back\n",
    "                    driver.find_element_by_xpath('/html/body/div[4]').click()\n",
    "                #if the post is image then this part will execute \n",
    "                except TimeoutException :\n",
    "                    \n",
    "                    like = driver.find_element_by_xpath('/html/body/div[4]/div[2]/div/article/div[3]/section[2]/div/div/button/span')\n",
    "                    no_of_likes = (like.text).replace(',' , '')\n",
    "                    likes.append(int(no_of_likes))\n",
    "                    time.sleep(1)\n",
    "                #locating close button and clicking on it\n",
    "                close=driver.find_element_by_xpath(\"/html/body/div[4]/div[3]/button\")\n",
    "                time.sleep(1)\n",
    "                close.click()\n",
    "                                \n",
    "\n",
    "                \n",
    "            return likes\n",
    "    \n",
    "    except TimeoutException :\n",
    "        print (\"Something went wrong! Try Again\")"
   ]
  },
  {
   "cell_type": "code",
   "execution_count": null,
   "id": "7d029d2c",
   "metadata": {},
   "outputs": [],
   "source": [
    "#dct will store username with list of likes\n",
    "dct = {}\n",
    "for user in handles : \n",
    "    likes = get_likes(user)\n",
    "    dct[user] = likes\n",
    "    print('Number of likes of the top 10 posts of',user,':')\n",
    "    for i in likes :\n",
    "        print(i,'Likes')\n",
    "    print()"
   ]
  },
  {
   "cell_type": "markdown",
   "id": "35d26197",
   "metadata": {},
   "source": [
    "2.Calculate the average likes for a handle."
   ]
  },
  {
   "cell_type": "code",
   "execution_count": null,
   "id": "f365dd9d",
   "metadata": {},
   "outputs": [],
   "source": [
    "#This function will return a dictionary of {'username':average like}\n",
    "def get_avg_likes(d):\n",
    "    avg_likes = {}\n",
    "    for key,val in d.items():\n",
    "            avg = sum(val) // 10\n",
    "            avg_likes[key] = avg\n",
    "    return avg_likes"
   ]
  },
  {
   "cell_type": "code",
   "execution_count": null,
   "id": "e2079486",
   "metadata": {},
   "outputs": [],
   "source": [
    "avg_likes = get_avg_likes(dct)\n",
    "\n",
    "print('Average likes for each handle are :')\n",
    "for user,likes in avg_likes.items():\n",
    "    print(user, ':', likes)"
   ]
  },
  {
   "cell_type": "markdown",
   "id": "76f841fd",
   "metadata": {},
   "source": [
    "3.Divide the average likes obtained from the number of followers of the handle to get the average followers:like ratio of each handle."
   ]
  },
  {
   "cell_type": "code",
   "execution_count": null,
   "id": "c7c27d4e",
   "metadata": {},
   "outputs": [],
   "source": [
    "#This function will return dictionary of {'username':avg followers-like ratio}\n",
    "def getavg_foll_like_ratio(top_handles,avg_like,users):\n",
    "    foll_like = {}\n",
    "    for i in range(5) :\n",
    "        foll_like[users[i]] = top_handles[users[i]]//avg_like[users[i]]\n",
    "    return foll_like"
   ]
  },
  {
   "cell_type": "code",
   "execution_count": null,
   "id": "286d3f8a",
   "metadata": {},
   "outputs": [],
   "source": [
    "#here I am using the answer of problem 1.1 which contains a dictionary of {'username':followers} ie top_handles\n",
    "#extracing username from top_handles\n",
    "top_handles_names = list(top_handles.keys())\n",
    "#now calling function getavg_foll_like_ratio(top_handles,avg_like,users) \n",
    "avg_fol_like_ratio = getavg_foll_like_ratio(top_handles, avg_likes, top_handles_names)\n",
    "print('Average followers:like ratio of each handle :')\n",
    "for user,ratio in avg_fol_like_ratio.items():\n",
    "    print(user, ':', ratio)"
   ]
  },
  {
   "cell_type": "markdown",
   "id": "1f803892",
   "metadata": {},
   "source": [
    "4.Create a bar graph to depict the above obtained information."
   ]
  },
  {
   "cell_type": "code",
   "execution_count": null,
   "id": "207ccff9",
   "metadata": {},
   "outputs": [],
   "source": [
    "#Plotting Bar Graph for average likes of each handle"
   ]
  },
  {
   "cell_type": "code",
   "execution_count": null,
   "id": "2a0d3d0a",
   "metadata": {},
   "outputs": [],
   "source": [
    "#for this I will use answer of problem 3.2 \n",
    "username = list(avg_likes.keys())\n",
    "avg_like = list(avg_likes.values())\n",
    "\n",
    "plt.bar(username,avg_like,color='g',alpha=0.6)\n",
    "plt.ylabel(\"Average Likes\",size=15)\n",
    "plt.xlabel(\"Handle's Name\",size=15)\n",
    "plt.title('Average like for each handle ',fontsize=20, color='green',alpha=0.8)\n",
    "plt.grid()\n",
    "plt.show()"
   ]
  },
  {
   "cell_type": "code",
   "execution_count": null,
   "id": "6690bb36",
   "metadata": {},
   "outputs": [],
   "source": [
    "# Plotting Bar Graph for average followers:like ratio of each handle"
   ]
  },
  {
   "cell_type": "code",
   "execution_count": null,
   "id": "d1428a1c",
   "metadata": {},
   "outputs": [],
   "source": [
    "#For this I will use answer of problem 3.3\n",
    "username = list(avg_fol_like_ratio.keys())\n",
    "avg_like = list(avg_fol_like_ratio.values())\n",
    "\n",
    "plt.bar(username,avg_like,color='Indigo',alpha=0.6)\n",
    "plt.ylabel(\"Average Followers:Like Ratio\",size=12)\n",
    "plt.xlabel(\"Handle's Name\",size=12)\n",
    "plt.title('Average Followers:Like Ratio of Each Handle ',fontsize=20, color='Indigo',alpha=0.8)\n",
    "plt.grid()\n",
    "plt.show()"
   ]
  },
  {
   "cell_type": "code",
   "execution_count": null,
   "id": "d3c1f531",
   "metadata": {},
   "outputs": [],
   "source": []
  }
 ],
 "metadata": {
  "kernelspec": {
   "display_name": "Python 3 (ipykernel)",
   "language": "python",
   "name": "python3"
  },
  "language_info": {
   "codemirror_mode": {
    "name": "ipython",
    "version": 3
   },
   "file_extension": ".py",
   "mimetype": "text/x-python",
   "name": "python",
   "nbconvert_exporter": "python",
   "pygments_lexer": "ipython3",
   "version": "3.9.13"
  }
 },
 "nbformat": 4,
 "nbformat_minor": 5
}
